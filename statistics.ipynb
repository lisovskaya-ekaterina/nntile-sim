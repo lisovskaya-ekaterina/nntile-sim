{
 "cells": [
  {
   "cell_type": "code",
   "execution_count": 1,
   "id": "01696a7d-71a0-402f-914f-71ebc868108a",
   "metadata": {},
   "outputs": [],
   "source": [
    "import pandas as pd "
   ]
  },
  {
   "cell_type": "code",
   "execution_count": 35,
   "id": "4390076f-019e-4a68-85c1-a3124e84e2e9",
   "metadata": {},
   "outputs": [],
   "source": [
    "sim_data = pd.read_csv('sim_log.txt')\n",
    "real_data =  pd.read_csv('real_log.txt')\n",
    "compare_data = real_data.join(sim_data)"
   ]
  },
  {
   "cell_type": "code",
   "execution_count": 36,
   "id": "4ce00e90-be77-4a6c-9727-925d85e7c327",
   "metadata": {},
   "outputs": [
    {
     "data": {
      "text/html": [
       "<div>\n",
       "<style scoped>\n",
       "    .dataframe tbody tr th:only-of-type {\n",
       "        vertical-align: middle;\n",
       "    }\n",
       "\n",
       "    .dataframe tbody tr th {\n",
       "        vertical-align: top;\n",
       "    }\n",
       "\n",
       "    .dataframe thead th {\n",
       "        text-align: right;\n",
       "    }\n",
       "</style>\n",
       "<table border=\"1\" class=\"dataframe\">\n",
       "  <thead>\n",
       "    <tr style=\"text-align: right;\">\n",
       "      <th></th>\n",
       "      <th>real_JobID</th>\n",
       "      <th>sim_JobID</th>\n",
       "    </tr>\n",
       "  </thead>\n",
       "  <tbody>\n",
       "    <tr>\n",
       "      <th>0</th>\n",
       "      <td>156508</td>\n",
       "      <td>156508</td>\n",
       "    </tr>\n",
       "    <tr>\n",
       "      <th>1</th>\n",
       "      <td>156509</td>\n",
       "      <td>156509</td>\n",
       "    </tr>\n",
       "    <tr>\n",
       "      <th>2</th>\n",
       "      <td>156517</td>\n",
       "      <td>156517</td>\n",
       "    </tr>\n",
       "    <tr>\n",
       "      <th>3</th>\n",
       "      <td>156518</td>\n",
       "      <td>156518</td>\n",
       "    </tr>\n",
       "    <tr>\n",
       "      <th>4</th>\n",
       "      <td>156525</td>\n",
       "      <td>156525</td>\n",
       "    </tr>\n",
       "  </tbody>\n",
       "</table>\n",
       "</div>"
      ],
      "text/plain": [
       "   real_JobID  sim_JobID\n",
       "0      156508     156508\n",
       "1      156509     156509\n",
       "2      156517     156517\n",
       "3      156518     156518\n",
       "4      156525     156525"
      ]
     },
     "execution_count": 36,
     "metadata": {},
     "output_type": "execute_result"
    }
   ],
   "source": [
    "compare_data.head()"
   ]
  },
  {
   "cell_type": "code",
   "execution_count": 37,
   "id": "9df8b40f-1496-461e-97da-68906ca062ba",
   "metadata": {},
   "outputs": [],
   "source": [
    "compare_data['test'] = compare_data['sim_JobID'] != compare_data['real_JobID']"
   ]
  },
  {
   "cell_type": "code",
   "execution_count": 38,
   "id": "b1fa64b5-3380-4b14-bf01-ee0c97239c89",
   "metadata": {},
   "outputs": [
    {
     "data": {
      "text/plain": [
       "0"
      ]
     },
     "execution_count": 38,
     "metadata": {},
     "output_type": "execute_result"
    }
   ],
   "source": [
    "compare_data['test'].sum()"
   ]
  },
  {
   "cell_type": "code",
   "execution_count": null,
   "id": "b04c14e3",
   "metadata": {},
   "outputs": [],
   "source": []
  }
 ],
 "metadata": {
  "kernelspec": {
   "display_name": "Python 3 (ipykernel)",
   "language": "python",
   "name": "python3"
  },
  "language_info": {
   "codemirror_mode": {
    "name": "ipython",
    "version": 3
   },
   "file_extension": ".py",
   "mimetype": "text/x-python",
   "name": "python",
   "nbconvert_exporter": "python",
   "pygments_lexer": "ipython3",
   "version": "3.9.6"
  }
 },
 "nbformat": 4,
 "nbformat_minor": 5
}
